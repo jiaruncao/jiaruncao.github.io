{
 "cells": [
  {
   "cell_type": "markdown",
   "metadata": {},
   "source": [
    "## 模型的保存与恢复\n",
    "使用TensorFlow保存和恢复模型。  \n",
    "这个示例使用了MNIST手写数字集(http://yann.lecun.com/exdb/mnist/)  \n",
    "\n",
    "- Author: Aymeric Damien\n",
    "- Project: https://github.com/aymericdamien/TensorFlow-Examples/"
   ]
  },
  {
   "cell_type": "markdown",
   "metadata": {},
   "source": [
    "#### 1. 导入MNIST数据集"
   ]
  },
  {
   "cell_type": "code",
   "execution_count": 2,
   "metadata": {},
   "outputs": [
    {
     "name": "stdout",
     "output_type": "stream",
     "text": [
      "Extracting data/train-images-idx3-ubyte.gz\n",
      "Extracting data/train-labels-idx1-ubyte.gz\n",
      "Extracting data/t10k-images-idx3-ubyte.gz\n",
      "Extracting data/t10k-labels-idx1-ubyte.gz\n"
     ]
    }
   ],
   "source": [
    "from __future__ import print_function\n",
    "\n",
    "from tensorflow.examples.tutorials.mnist import input_data\n",
    "mnist = input_data.read_data_sets(\"data/\", one_hot=True) #在当前目录下创建一个data文件夹即可\n",
    "\n",
    "import tensorflow as tf"
   ]
  },
  {
   "cell_type": "markdown",
   "metadata": {},
   "source": [
    "#### 2. 自定义参数"
   ]
  },
  {
   "cell_type": "code",
   "execution_count": 14,
   "metadata": {},
   "outputs": [],
   "source": [
    "#超参数\n",
    "learning_rate = 0.001\n",
    "batch_size = 100\n",
    "display_step = 1\n",
    "model_path = '/Users/app/Documents/model_tf/model.ckpt'     #不能在当前py文件路径下\n",
    "\n",
    "#网络模型参数\n",
    "n_hidden_1 = 256     #第一层的特征数\n",
    "n_hidden_2 = 256     #第二层的特征数\n",
    "n_input = 784        #MNIST输入数据（图像形状：28*28像素）\n",
    "n_classes = 10       #MNIST总的类别（0-9数字）\n",
    "\n",
    "#TensorFlow的Graph输入\n",
    "X = tf.placeholder('float',[None,n_input])\n",
    "Y = tf.placeholder('float',[None,n_classes])\n",
    "\n",
    "#定义weights和biases\n",
    "weights = {\n",
    "    'h1': tf.Variable(tf.random_normal([n_input, n_hidden_1])),\n",
    "    'h2': tf.Variable(tf.random_normal([n_hidden_1, n_hidden_2])),\n",
    "    'out': tf.Variable(tf.random_normal([n_hidden_2, n_classes]))\n",
    "}\n",
    "biases = {\n",
    "    'b1': tf.Variable(tf.random_normal([n_hidden_1])),\n",
    "    'b2': tf.Variable(tf.random_normal([n_hidden_2])),\n",
    "    'out': tf.Variable(tf.random_normal([n_classes]))\n",
    "}\n",
    "\n",
    "#创建模型\n",
    "def multilayer_percetron(x,weights,biases):\n",
    "    #隐层，使用RELU激活函数\n",
    "    layer_1 = tf.add(tf.matmul(x,weights['h1']),biases['b1'])\n",
    "    layer_1 = tf.nn.relu(layer_1)\n",
    "    #隐层，使用RELU激活函数\n",
    "    layer_2 = tf.add(tf.matmul(layer_1,weights['h2']),biases['b2'])\n",
    "    layer_2 = tf.nn.relu(layer_2)\n",
    "    #输出层使用线性激活函数\n",
    "    out_layer = tf.matmul(layer_2,weights['out']) + biases['out']\n",
    "    return out_layer\n",
    "\n",
    "pred = multilayer_percetron(X,weights,biases)\n",
    "\n",
    "#定义loss和optimizer\n",
    "cost = tf.reduce_mean(tf.nn.softmax_cross_entropy_with_logits(logits= pred,\n",
    "                                                             labels = Y))\n",
    "optimizer = tf.train.AdadeltaOptimizer(learning_rate= learning_rate).minimize(cost)\n",
    "\n",
    "#初始化变量\n",
    "init = tf.global_variables_initializer()"
   ]
  },
  {
   "cell_type": "markdown",
   "metadata": {},
   "source": [
    "#### 3. 模型保存"
   ]
  },
  {
   "cell_type": "code",
   "execution_count": 15,
   "metadata": {},
   "outputs": [],
   "source": [
    "#saver操作用来保存和恢复所有的变量\n",
    "saver = tf.train.Saver()"
   ]
  },
  {
   "cell_type": "code",
   "execution_count": 16,
   "metadata": {},
   "outputs": [
    {
     "name": "stdout",
     "output_type": "stream",
     "text": [
      "运行第一个session...\n",
      "Epoch: 0001 cost = 1976.109488414\n",
      "Epoch: 0002 cost = 1936.085860263\n",
      "Epoch: 0003 cost = 1893.217941007\n",
      "训练结束！\n",
      "Accuarcy: 0.0925\n",
      "模型保存在： /Users/app/Documents/model_tf/model.ckpt\n"
     ]
    }
   ],
   "source": [
    "#运行第一个session\n",
    "print (\"运行第一个session...\")\n",
    "with tf.Session() as sess:\n",
    "    #初始化变量\n",
    "    sess.run(init)\n",
    "    \n",
    "    #训练循环\n",
    "    for epoch in range(3):\n",
    "        avg_cost = 0\n",
    "        total_batch = int(mnist.train.num_examples/batch_size)\n",
    "        \n",
    "        #遍历所有的batch\n",
    "        for i in range(total_batch):\n",
    "            batch_x, batch_y = mnist.train.next_batch(batch_size)\n",
    "            #运行optimizer操作（后向传播）和cost操作（得到loss值）\n",
    "            _, c = sess.run([optimizer,cost],feed_dict = {X:batch_x,\n",
    "                                                         Y:batch_y})\n",
    "            #计算平均loss\n",
    "            avg_cost += c / total_batch\n",
    "        #显示每个epoch的loss\n",
    "        if epoch % display_step == 0:\n",
    "            print('Epoch:','%04d' %(epoch + 1),'cost =','{:.9f}'.format(avg_cost))\n",
    "    print('训练结束！')\n",
    "        \n",
    "        \n",
    "    #模型测试\n",
    "    correct_prediction = tf.equal(tf.argmax(pred,1),tf.argmax(Y,1))\n",
    "    accuracy = tf.reduce_mean(tf.cast(correct_prediction,tf.float32))\n",
    "    print('Accuarcy:',accuracy.eval({X: mnist.test.images, Y: mnist.test.labels}))\n",
    "    \n",
    "    \n",
    "    \n",
    "    #将模型参数保存到本地\n",
    "    save_path = saver.save(sess,model_path)\n",
    "    print ('模型保存在： %s' % save_path)"
   ]
  },
  {
   "cell_type": "markdown",
   "metadata": {},
   "source": [
    "#### 4. 模型恢复"
   ]
  },
  {
   "cell_type": "code",
   "execution_count": 22,
   "metadata": {},
   "outputs": [
    {
     "name": "stdout",
     "output_type": "stream",
     "text": [
      "运行第二个session...\n",
      "INFO:tensorflow:Restoring parameters from /Users/app/Documents/model_tf/model.ckpt\n"
     ]
    },
    {
     "name": "stderr",
     "output_type": "stream",
     "text": [
      "INFO:tensorflow:Restoring parameters from /Users/app/Documents/model_tf/model.ckpt\n"
     ]
    },
    {
     "name": "stdout",
     "output_type": "stream",
     "text": [
      "模型恢复路径是： /Users/app/Documents/model_tf/model.ckpt\n",
      "Epoch: 0001 cost = 1849.546460405\n",
      "Epoch: 0002 cost = 1806.048778409\n",
      "Epoch: 0003 cost = 1763.068796387\n",
      "Epoch: 0004 cost = 1721.393671653\n",
      "Epoch: 0005 cost = 1682.299213645\n",
      "Epoch: 0006 cost = 1643.577783425\n",
      "Epoch: 0007 cost = 1607.259913885\n",
      "训练结束！\n",
      "Accuarcy: 0.0924\n"
     ]
    }
   ],
   "source": [
    "#运行一个新的session\n",
    "print ('运行第二个session...')\n",
    "with tf.Session() as sess:\n",
    "    #初始化变量\n",
    "    sess.run(init)\n",
    "    \n",
    "    #恢复模型\n",
    "    load_path = saver.restore(sess,model_path)\n",
    "    print('模型恢复路径是： %s' %save_path)\n",
    "    \n",
    "    #恢复训练\n",
    "    for epoch in range(7):\n",
    "        avg_cost = 0.\n",
    "        total_batch = int(mnist.train.num_examples/batch_size)\n",
    "        #遍历所有的batch\n",
    "        for i in range(total_batch):\n",
    "            batch_x, batch_y = mnist.train.next_batch(batch_size)\n",
    "            #运行optimizer操作（后向传播）和cost操作（得到loss值）\n",
    "            _, c = sess.run([optimizer,cost],feed_dict = {X:batch_x,\n",
    "                                                         Y:batch_y})\n",
    "            #计算平均loss\n",
    "            avg_cost += c / total_batch\n",
    "        #显示每个epoch的loss\n",
    "        if epoch % display_step == 0:\n",
    "            print('Epoch:','%04d' %(epoch + 1),'cost =','{:.9f}'.format(avg_cost))\n",
    "    print('训练结束！')\n",
    "        \n",
    "        \n",
    "    #模型测试\n",
    "    correct_prediction = tf.equal(tf.argmax(pred,1),tf.argmax(Y,1))\n",
    "    accuracy = tf.reduce_mean(tf.cast(correct_prediction,tf.float32))\n",
    "    print('Accuarcy:',accuracy.eval({X: mnist.test.images, Y: mnist.test.labels}))\n",
    "    "
   ]
  },
  {
   "cell_type": "code",
   "execution_count": null,
   "metadata": {},
   "outputs": [],
   "source": []
  }
 ],
 "metadata": {
  "kernelspec": {
   "display_name": "Python 3",
   "language": "python",
   "name": "python3"
  },
  "language_info": {
   "codemirror_mode": {
    "name": "ipython",
    "version": 3
   },
   "file_extension": ".py",
   "mimetype": "text/x-python",
   "name": "python",
   "nbconvert_exporter": "python",
   "pygments_lexer": "ipython3",
   "version": "3.6.3"
  }
 },
 "nbformat": 4,
 "nbformat_minor": 2
}
